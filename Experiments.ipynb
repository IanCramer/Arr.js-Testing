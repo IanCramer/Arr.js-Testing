{
  "cells": [
    {
      "cell_type": "markdown",
      "metadata": {
        "id": "view-in-github",
        "colab_type": "text"
      },
      "source": [
        "<a href=\"https://colab.research.google.com/github/IanCramer/Arr.js-Testing/blob/master/Experiments.ipynb\" target=\"_parent\"><img src=\"https://colab.research.google.com/assets/colab-badge.svg\" alt=\"Open In Colab\"/></a>"
      ]
    },
    {
      "cell_type": "markdown",
      "source": [
        "### Expectations of Students\n",
        "*   Try mutliple classifiers\n",
        "*   Hyper parameter optimization\n",
        "*   Thoughtful feature selection and/or feature construction\n",
        "*   An F1 score higher than .75 is considered good."
      ],
      "metadata": {
        "id": "WttE9X7rQdVj"
      }
    },
    {
      "cell_type": "code",
      "execution_count": null,
      "metadata": {
        "id": "UzY32_UTjqwN",
        "outputId": "f11c142c-6207-422b-9ee6-563ee1d6deca",
        "colab": {
          "base_uri": "https://localhost:8080/"
        }
      },
      "outputs": [
        {
          "output_type": "stream",
          "name": "stdout",
          "text": [
            "Mounted at /content/drive\n"
          ]
        }
      ],
      "source": [
        "import os\n",
        "import pandas as pd\n",
        "import numpy as np\n",
        "\n",
        "import sklearn\n",
        "from sklearn.feature_extraction.text import CountVectorizer\n",
        "from sklearn.model_selection import GridSearchCV\n",
        "from sklearn.naive_bayes import MultinomialNB\n",
        "from sklearn.svm import SVC, LinearSVC\n",
        "from sklearn.ensemble import RandomForestClassifier\n",
        "from sklearn.tree import DecisionTreeClassifier\n",
        "from sklearn.metrics import f1_score, classification_report, confusion_matrix, ConfusionMatrixDisplay\n",
        "\n",
        "import nltk\n",
        "from nltk.sentiment import SentimentIntensityAnalyzer\n",
        "\n",
        "from google.colab import drive\n",
        "drive.mount('/content/drive')"
      ]
    },
    {
      "cell_type": "code",
      "source": [
        "nltk.download('vader_lexicon')\n",
        "\n",
        "# Installs and imports Hugging Face sentiment analysis tools\n",
        "!pip install -q transformers\n",
        "from transformers import pipeline"
      ],
      "metadata": {
        "colab": {
          "base_uri": "https://localhost:8080/"
        },
        "id": "Htjgu0SGw0Q6",
        "outputId": "adc5ae94-99e4-4fbb-d85c-be27a48d4647"
      },
      "execution_count": null,
      "outputs": [
        {
          "output_type": "stream",
          "name": "stdout",
          "text": [
            "\u001b[2K     \u001b[90m━━━━━━━━━━━━━━━━━━━━━━━━━━━━━━━━━━━━━━━━\u001b[0m \u001b[32m6.8/6.8 MB\u001b[0m \u001b[31m47.4 MB/s\u001b[0m eta \u001b[36m0:00:00\u001b[0m\n",
            "\u001b[2K     \u001b[90m━━━━━━━━━━━━━━━━━━━━━━━━━━━━━━━━━━━━━━━━\u001b[0m \u001b[32m7.6/7.6 MB\u001b[0m \u001b[31m103.1 MB/s\u001b[0m eta \u001b[36m0:00:00\u001b[0m\n",
            "\u001b[2K     \u001b[90m━━━━━━━━━━━━━━━━━━━━━━━━━━━━━━━━━━━━━━\u001b[0m \u001b[32m199.8/199.8 KB\u001b[0m \u001b[31m26.2 MB/s\u001b[0m eta \u001b[36m0:00:00\u001b[0m\n",
            "\u001b[?25h"
          ]
        }
      ]
    },
    {
      "cell_type": "code",
      "source": [
        "# Sentiment analysis using the default model (distilbert-base-uncased-finetuned-sst-2-english)\n",
        "# classifier = pipeline('sentiment-analysis')\n",
        "# result = classifier('I am very happy today!')\n",
        "# print(result)\n",
        "\n",
        "# # Sentiment analysis using the 'bert-base-cased' model\n",
        "# classifier = pipeline('sentiment-analysis', model='bert-base-cased', tokenizer='bert-base-cased')\n",
        "# result = classifier('I am very happy today!')\n",
        "# print(result)\n",
        "\n",
        "# # Sentiment analysis using the 'distilbert-base-uncased' model\n",
        "# classifier = pipeline('sentiment-analysis', model='distilbert-base-uncased', tokenizer='distilbert-base-uncased')\n",
        "# result = classifier('I am very happy today!')\n",
        "# print(result)\n",
        "\n",
        "# # Sentiment analysis using the 'nlptown/bert-base-multilingual-uncased-sentiment' model for multiple languages\n",
        "# classifier = pipeline('sentiment-analysis', model='nlptown/bert-base-multilingual-uncased-sentiment')\n",
        "# result = classifier('Je suis très heureux aujourd\\'hui!', lang='fr')\n",
        "# print(result)"
      ],
      "metadata": {
        "colab": {
          "base_uri": "https://localhost:8080/",
          "height": 197,
          "referenced_widgets": [
            "3f1cb5e498514d7089638f5ec0ea5ce6",
            "c71edc0440d9451ca574737c3102be24",
            "eb2b277825824c3a846376d830a2e1e1",
            "b3b0b82e2794438a8529b8db433a82c2",
            "736bb23acc584b3c9edcd3440fc2aadf",
            "98cd1cc672da458699ce5e273d550524",
            "6e94f5c5c7a24da8a2aee04cdc35aefe",
            "854d406cdcc04d9bbb2593221e7d4cee",
            "8604d4c42ce1492286f16c30a2251ad5",
            "56e84eb1a1e54ee9866ce367942f4ca0",
            "c90606642c4b4653a8397216a99d631c",
            "c88ec0628b0c45359f249af910a998d3",
            "617b1793278944409f6ff8ea9c592733",
            "73adc4844d604c218dbaf61902545675",
            "1c6e82d6bec64bdcbca0fdec4018a484",
            "7bada918c3054ebe912cc2000b0d41f3",
            "8fc005ceed7c459eb483b649eee4acdd",
            "ac3e37d2bf8a493b94491851997bc257",
            "f43804afe4ea481a925166d12b94eb17",
            "9340f85097924161a3319750b47949ae",
            "1eb9f16db97c4228a9dc4148944b157d",
            "437d07acd4564d77a3afc8591d6f9497",
            "af2104dbf13149169012b0c4c934c875",
            "583bcd39211d4bbb8dca6f7be57638b3",
            "38c27b56f19d4c1ca753bc8020eb4fd5",
            "579e43a21f254c78b5fa01075d91e4e0",
            "012f03282f9d402cbcf4a4046295a647",
            "a01b5424d8ee4180adba7ba54f0dc24b",
            "3ce17d05b12c4a8ca9e2737264b9aeb2",
            "9741a875d73b4076bc9d1c95a467be58",
            "af138227a3d84fb0b4975c6b95478436",
            "e311819a678a4955a0f488cd496cf396",
            "876e83954a98411892dff200a8fef53e",
            "bf581749c7ef4842ae1f97e1a550db89",
            "e16ccf332c424a42833e5355a08f0251",
            "d3b53836284943d7bad628e98a753746",
            "7f62e2658e8447de834279f4cf42b477",
            "732c74fe4ddd4b5a8e775d0521632a31",
            "988cd50f7d114f5ca8a1cdbce599b0cf",
            "471c0737f5584b26a6b5635485ff4d16",
            "89f65fe28817419db915a5f4787d6183",
            "0c18d6c49f384c8da7b1b4e7b920fe8d",
            "8f8fb864d8c64b5cac1389a65695726f",
            "384ee5c752b045b3a420bd719f0e4815"
          ]
        },
        "id": "5ocTTqN9lllD",
        "outputId": "cac0231a-8c87-474d-989e-292f99b8f839"
      },
      "execution_count": null,
      "outputs": [
        {
          "output_type": "stream",
          "name": "stderr",
          "text": [
            "No model was supplied, defaulted to distilbert-base-uncased-finetuned-sst-2-english and revision af0f99b (https://huggingface.co/distilbert-base-uncased-finetuned-sst-2-english).\n",
            "Using a pipeline without specifying a model name and revision in production is not recommended.\n"
          ]
        },
        {
          "output_type": "display_data",
          "data": {
            "text/plain": [
              "Downloading (…)lve/main/config.json:   0%|          | 0.00/629 [00:00<?, ?B/s]"
            ],
            "application/vnd.jupyter.widget-view+json": {
              "version_major": 2,
              "version_minor": 0,
              "model_id": "3f1cb5e498514d7089638f5ec0ea5ce6"
            }
          },
          "metadata": {}
        },
        {
          "output_type": "display_data",
          "data": {
            "text/plain": [
              "Downloading pytorch_model.bin:   0%|          | 0.00/268M [00:00<?, ?B/s]"
            ],
            "application/vnd.jupyter.widget-view+json": {
              "version_major": 2,
              "version_minor": 0,
              "model_id": "c88ec0628b0c45359f249af910a998d3"
            }
          },
          "metadata": {}
        },
        {
          "output_type": "display_data",
          "data": {
            "text/plain": [
              "Downloading (…)okenizer_config.json:   0%|          | 0.00/48.0 [00:00<?, ?B/s]"
            ],
            "application/vnd.jupyter.widget-view+json": {
              "version_major": 2,
              "version_minor": 0,
              "model_id": "af2104dbf13149169012b0c4c934c875"
            }
          },
          "metadata": {}
        },
        {
          "output_type": "display_data",
          "data": {
            "text/plain": [
              "Downloading (…)solve/main/vocab.txt:   0%|          | 0.00/232k [00:00<?, ?B/s]"
            ],
            "application/vnd.jupyter.widget-view+json": {
              "version_major": 2,
              "version_minor": 0,
              "model_id": "bf581749c7ef4842ae1f97e1a550db89"
            }
          },
          "metadata": {}
        },
        {
          "output_type": "stream",
          "name": "stdout",
          "text": [
            "[{'label': 'POSITIVE', 'score': 0.999875545501709}]\n"
          ]
        }
      ]
    },
    {
      "cell_type": "code",
      "source": [
        "# Old\n",
        "def experiment_data(category, features):\n",
        "    # Old Path\n",
        "    path = '/content/drive/MyDrive/1. School and Education/2020-2023 Northwestern/2023_Q2_Spring/CS 349 (TA)/Project/divided_datasets/'\n",
        "\n",
        "    cols = features + ['awesomeness']\n",
        "\n",
        "    # Load Training Data\n",
        "    train = pd.read_json(f'{path}{category}_train.json')[cols]\n",
        "    train = add_sentiment_nltk(train.fillna(''))\n",
        "\n",
        "    # Load Testing Data\n",
        "    tests = []\n",
        "    for i in range(1,4):\n",
        "        test = pd.read_json(f'{path}{category}_test{i}.json')[cols]\n",
        "        test = add_sentiment_nltk(test.fillna(''))\n",
        "        tests.append(test)\n",
        "\n",
        "    return train, tests"
      ],
      "metadata": {
        "id": "u9_MS8CS6-Nv"
      },
      "execution_count": null,
      "outputs": []
    },
    {
      "cell_type": "code",
      "source": [
        "# New\n",
        "def project_data(category, cols):\n",
        "    # New Path\n",
        "    path = '/content/drive/MyDrive/1. School and Education/2020-2023 Northwestern/2023_Q2_Spring/CS 349 (TA)/Project/divided_datasets_v2/'\n",
        "\n",
        "    train_reviews = pd.read_json(f'{path}{category}/train/review_training.json')\n",
        "    train_products = pd.read_json(f'{path}{category}/train/product_training.json')\n",
        "    train = group_merge_data(train_reviews, train_products, cols, 'asin')\n",
        "\n",
        "    test1_reviews = pd.read_json(f'{path}{category}/test1/review_test.json')\n",
        "    test1_products = pd.read_json(f'{path}{category}/test1/product_test.json')\n",
        "    test1 = group_merge_data(test1_reviews, test1_products, cols, 'asin')\n",
        "\n",
        "    test2_reviews = pd.read_json(f'{path}{category}/test2/review_test.json')\n",
        "    test2_products = pd.read_json(f'{path}{category}/test2/product_test.json')\n",
        "    test2 = group_merge_data(test2_reviews, test2_products, cols, 'asin')\n",
        "\n",
        "    test3_reviews = pd.read_json(f'{path}{category}/test3/review_test.json')\n",
        "    test3_products = pd.read_json(f'{path}{category}/test3/product_test.json')\n",
        "    test3 = group_merge_data(test3_reviews, test3_products, cols, 'asin')\n",
        "\n",
        "    return train, test1, test2, test3\n"
      ],
      "metadata": {
        "id": "_alt7gnbYgkA"
      },
      "execution_count": null,
      "outputs": []
    },
    {
      "cell_type": "code",
      "source": [
        "def group_merge_data(df1, df2, cols, on_col):\n",
        "    grouped = df1.groupby(on_col).agg(lambda x: ' '.join(x.astype(str))).reset_index()\n",
        "    grouped = grouped[cols]\n",
        "    df2 = pd.merge(df2, grouped, on=on_col, how='left')\n",
        "    return df2"
      ],
      "metadata": {
        "id": "4sbXS0J9668n"
      },
      "execution_count": null,
      "outputs": []
    },
    {
      "cell_type": "code",
      "source": [
        "def add_sentiment_nltk(df):\n",
        "    sid = SentimentIntensityAnalyzer()\n",
        "    df['reviewText_sentiment'] = df['reviewText'].apply(lambda x: sid.polarity_scores(x)['compound'])\n",
        "    df['summary_sentiment'] = df['summary'].apply(lambda x: sid.polarity_scores(x)['compound'])\n",
        "    return df\n",
        "\n",
        "\n",
        "\n",
        "\n",
        "def add_sentiment_transformers(df):\n",
        "    set_seed(42) # for reproducibility\n",
        "    \n",
        "    # initialize sentiment analysis pipeline\n",
        "    sentiment_analyzer = pipeline('sentiment-analysis')\n",
        "    \n",
        "    # process reviews and summaries in batches of 512 to avoid running out of memory\n",
        "    batch_size = 512\n",
        "    \n",
        "    # process reviews in batches\n",
        "    review_scores = []\n",
        "    for i in range(0, len(df), batch_size):\n",
        "        batch = df['reviewText'].iloc[i:i+batch_size].tolist()\n",
        "        scores = sentiment_analyzer(batch, truncation=True, padding=True)\n",
        "        review_scores.extend([score['score'] for score in scores])\n",
        "    df['reviewText_sentiment'] = review_scores\n",
        "    \n",
        "    # process summaries in batches\n",
        "    summary_scores = []\n",
        "    for i in range(0, len(df), batch_size):\n",
        "        batch = df['summary'].iloc[i:i+batch_size].tolist()\n",
        "        scores = sentiment_analyzer(batch, truncation=True, padding=True)\n",
        "        summary_scores.extend([score['score'] for score in scores])\n",
        "    df['summary_sentiment'] = summary_scores\n",
        "    \n",
        "    return df\n"
      ],
      "metadata": {
        "id": "ChLt52w9UbYk"
      },
      "execution_count": null,
      "outputs": []
    },
    {
      "cell_type": "code",
      "source": [
        "def vectorize(df, vectorizer=None):\n",
        "    if not vectorizer:\n",
        "        # Construct the Vectorizer    \n",
        "        vectorizer = CountVectorizer()\n",
        "\n",
        "        # Vectorize and Transform the data\n",
        "        X_text = df.apply(lambda x: ' '.join(x.dropna().astype(str)), axis=1)\n",
        "        X = vectorizer.fit_transform(X_text)\n",
        "        return X, vectorizer\n",
        "    \n",
        "    assert vectorizer.vocabulary_ is not None\n",
        "    # Apply the vectorization and transformation from training to the data\n",
        "    X_text = df.apply(lambda x: ' '.join(x.dropna().astype(str)), axis=1)\n",
        "    X = vectorizer.transform(X_text)\n",
        "    return X, vectorizer"
      ],
      "metadata": {
        "id": "reS_tihoVxcB"
      },
      "execution_count": null,
      "outputs": []
    },
    {
      "cell_type": "code",
      "source": [
        "# Perform 10-fold cross validation training that searches for optimal hyper parameters\n",
        "def k_fold_cross_val_fit(model, params, X, y, k):\n",
        "    grid_search = GridSearchCV(nb, params, cv=k)\n",
        "    grid_search.fit(X, y)\n",
        "    print(\"Best hyperparameters:\", grid_search.best_params_)\n",
        "    return grid_search.best_estimator_"
      ],
      "metadata": {
        "id": "Kq54sQ-jV8Be"
      },
      "execution_count": null,
      "outputs": []
    },
    {
      "cell_type": "code",
      "source": [
        "def run_test(model, data, vectorizer):\n",
        "    X, vectorizer = vectorize(data, vectorizer)\n",
        "    data['prediction'] = model.predict(X)\n",
        "    return data[['asin', 'prediction']].groupby('asin').agg(lambda x: x.mode()[0]).reset_index()"
      ],
      "metadata": {
        "id": "8Ve57t1DN-PQ"
      },
      "execution_count": null,
      "outputs": []
    },
    {
      "cell_type": "code",
      "source": [
        "def measure_performance(targets, predictions):\n",
        "    targets = targets[['asin', 'awesomeness']].groupby('asin').agg(lambda x: x.iloc[0]).reset_index()\n",
        "\n",
        "    y = targets['awesomeness'].values\n",
        "    z = predictions['prediction'].values\n",
        "\n",
        "    labels = ['not awesome', 'awesome']\n",
        "    print(classification_report(y, z, target_names=labels))\n",
        "    ConfusionMatrixDisplay(confusion_matrix(y, z), display_labels=labels).plot()"
      ],
      "metadata": {
        "id": "W5AxAQL3O3hP"
      },
      "execution_count": null,
      "outputs": []
    },
    {
      "cell_type": "code",
      "source": [
        "def run_experiment(category, features, model, params):\n",
        "    print(f'Using a {model.__class__.__name__}')\n",
        "    print(f'with input features {features}')\n",
        "    print(f'to classify awesomeness on the {category} dataset')\n",
        "    print()\n",
        "\n",
        "\n",
        "    # Load Data\n",
        "    print(\"Loading Data\")\n",
        "    train, tests = experiment_data(category, features)\n",
        "\n",
        "\n",
        "    # Construct the vectorizer for vectorizing text data\n",
        "    print(\"Vectorizing\")\n",
        "    vectorizer = CountVectorizer()\n",
        "\n",
        "    # Vectorize and Transform the data\n",
        "    train_X, vectorizer = vectorize(train[features])\n",
        "    train_y = train['awesomeness']\n",
        "\n",
        "    # Use 10 fold cross validation to find the best hyper parameters for the model\n",
        "    print(\"Cross Validating for hyper parameter optimization\")\n",
        "    model = k_fold_cross_val_fit(model, params, train_X, train_y, 10)\n",
        "\n",
        "\n",
        "    # Fit the model on the entier training set\n",
        "    print(\"Training\")\n",
        "    model.fit(train_X, train_y)\n",
        "\n",
        "\n",
        "    # Test the model on each test and measure its performance\n",
        "    print(\"Testing\")\n",
        "    for i,test in enumerate(tests):\n",
        "        predictions = run_test(model, test[features], vectorizer)\n",
        "        print(f\"==== results on test set {i} ====== \\n \")\n",
        "        measure_performance(test, predictions)\n",
        "\n",
        "    return tests, predictions"
      ],
      "metadata": {
        "id": "h1UDGGbXP1f8"
      },
      "execution_count": null,
      "outputs": []
    },
    {
      "cell_type": "code",
      "source": [
        "# Construct a MultinomialNB Classifier\n",
        "nb = MultinomialNB()\n",
        "# Set the hyperparameters to be tuned during cross validation training\n",
        "nb_params = {'alpha': [1*10**-10, 0.000001, 0.0001, 0.001, 0.01, 0.1, 1.0, 2.0, 4.0, 8.0],\n",
        "              'fit_prior': [True, False]}"
      ],
      "metadata": {
        "id": "iLPvKj0ErnnO"
      },
      "execution_count": null,
      "outputs": []
    },
    {
      "cell_type": "code",
      "source": [
        "svm = LinearSVC()\n",
        "svm_params = {'C': [1*10**-10, 0.000001, 0.0001, 0.001, 0.01, 0.1, 1.0, 2.0, 4.0, 8.0],\n",
        "              'gamma': [1*10**-10, 0.000001, 0.0001, 0.001, 0.01, 0.1, 1.0, 2.0, 4.0, 8.0],\n",
        "              'kernel': ['linear', 'rbf']}"
      ],
      "metadata": {
        "id": "BN0NsY-uikOz"
      },
      "execution_count": null,
      "outputs": []
    },
    {
      "cell_type": "code",
      "source": [
        "rf = RandomForestClassifier()\n",
        "rf_params = {\n",
        "    'n_estimators': [100, 200, 300],\n",
        "    'max_depth': [5, 10, 15, 20],\n",
        "    'min_samples_split': [2, 5, 10],\n",
        "    'min_samples_leaf': [1, 2, 4],\n",
        "    'max_features': ['sqrt', 'log2']\n",
        "}"
      ],
      "metadata": {
        "id": "SoaQxh4mikO0"
      },
      "execution_count": null,
      "outputs": []
    },
    {
      "cell_type": "code",
      "source": [
        "# Categories: ['Automotive', 'CDs_and_Vinyl', 'Cell_Phones_and_Accessories', 'Grocery_and_Gourmet_Food', 'Sports_and_Outdoors', 'Toys_and_Games']\n",
        "category = 'Grocery_and_Gourmet_Food'\n",
        "\n",
        "# Columns: \n",
        "features = ['asin', 'reviewerID', 'verified', 'reviewerName', 'reviewText', 'summary', 'reviewText_senitment', 'summary_sentiment']\n",
        "model = nb\n",
        "params = nb_params"
      ],
      "metadata": {
        "id": "Yzy0P2ksikO0"
      },
      "execution_count": null,
      "outputs": []
    },
    {
      "cell_type": "markdown",
      "source": [
        "### Experiements to Run\n",
        "*   Grouped Data vs Ungrouped\n",
        "*   No Sentiment vs NLTK Sentiment vs Transformers Sentiment\n",
        "*   Feature Selection\n",
        "*   Multiple Models"
      ],
      "metadata": {
        "id": "h9uKx_kwT5yA"
      }
    },
    {
      "cell_type": "code",
      "source": [
        "test, predictions = run_experiment(category, features, model, params)"
      ],
      "metadata": {
        "colab": {
          "base_uri": "https://localhost:8080/",
          "height": 1000
        },
        "id": "Yfqc_Y0LPjQw",
        "outputId": "e9bc2256-f2ba-4fc0-90da-338e9f753f91"
      },
      "execution_count": null,
      "outputs": [
        {
          "output_type": "stream",
          "name": "stdout",
          "text": [
            "Using a MultinomialNB with input features ['asin', 'reviewerID', 'verified', 'reviewerName', 'reviewText', 'summary'] to classify awesomeness on the Grocery_and_Gourmet_Food dataset\n",
            "Loading Data\n",
            "Vectorizing\n",
            "Cross Validating for hyper parameter optimization\n",
            "Best hyperparameters: {'alpha': 0.1, 'fit_prior': True}\n",
            "Training\n",
            "Testing\n",
            "==== results on test set 0 ====== \n",
            " \n",
            "              precision    recall  f1-score   support\n",
            "\n",
            " not awesome       0.89      0.94      0.91     17314\n",
            "     awesome       0.93      0.88      0.91     17027\n",
            "\n",
            "    accuracy                           0.91     34341\n",
            "   macro avg       0.91      0.91      0.91     34341\n",
            "weighted avg       0.91      0.91      0.91     34341\n",
            "\n",
            "==== results on test set 1 ====== \n",
            " \n",
            "              precision    recall  f1-score   support\n",
            "\n",
            " not awesome       0.89      0.93      0.91     15122\n",
            "     awesome       0.92      0.88      0.90     14875\n",
            "\n",
            "    accuracy                           0.91     29997\n",
            "   macro avg       0.91      0.91      0.91     29997\n",
            "weighted avg       0.91      0.91      0.91     29997\n",
            "\n",
            "==== results on test set 2 ====== \n",
            " \n",
            "              precision    recall  f1-score   support\n",
            "\n",
            " not awesome       0.90      0.95      0.92     18627\n",
            "     awesome       0.94      0.89      0.91     18288\n",
            "\n",
            "    accuracy                           0.92     36915\n",
            "   macro avg       0.92      0.92      0.92     36915\n",
            "weighted avg       0.92      0.92      0.92     36915\n",
            "\n"
          ]
        },
        {
          "output_type": "display_data",
          "data": {
            "text/plain": [
              "<Figure size 640x480 with 2 Axes>"
            ],
            "image/png": "[encoded data removed]"
          },
          "metadata": {}
        },
        {
          "output_type": "display_data",
          "data": {
            "text/plain": [
              "<Figure size 640x480 with 2 Axes>"
            ],
            "image/png": "[encoded data removed]"
          },
          "metadata": {}
        },
        {
          "output_type": "display_data",
          "data": {
            "text/plain": [
              "<Figure size 640x480 with 2 Axes>"
            ],
            "image/png": "[encoded data removed]"
          },
          "metadata": {}
        }
      ]
    }
  ],
  "metadata": {
    "colab": {
      "provenance": [],
      "include_colab_link": true
    },
    "kernelspec": {
      "display_name": "Python 3 (ipykernel)",
      "language": "python",
      "name": "python3"
    },
    "language_info": {
      "codemirror_mode": {
        "name": "ipython",
        "version": 3
      },
      "file_extension": ".py",
      "mimetype": "text/x-python",
      "name": "python",
      "nbconvert_exporter": "python",
      "pygments_lexer": "ipython3",
      "version": "3.10.7"
    },
    "widgets": {
      "application/vnd.jupyter.widget-state+json": {
        "3f1cb5e498514d7089638f5ec0ea5ce6": {
          "model_module": "@jupyter-widgets/controls",
          "model_name": "HBoxModel",
          "model_module_version": "1.5.0",
          "state": {
            "_dom_classes": [],
            "_model_module": "@jupyter-widgets/controls",
            "_model_module_version": "1.5.0",
            "_model_name": "HBoxModel",
            "_view_count": null,
            "_view_module": "@jupyter-widgets/controls",
            "_view_module_version": "1.5.0",
            "_view_name": "HBoxView",
            "box_style": "",
            "children": [
              "IPY_MODEL_c71edc0440d9451ca574737c3102be24",
              "IPY_MODEL_eb2b277825824c3a846376d830a2e1e1",
              "IPY_MODEL_b3b0b82e2794438a8529b8db433a82c2"
            ],
            "layout": "IPY_MODEL_736bb23acc584b3c9edcd3440fc2aadf"
          }
        },
        "c71edc0440d9451ca574737c3102be24": {
          "model_module": "@jupyter-widgets/controls",
          "model_name": "HTMLModel",
          "model_module_version": "1.5.0",
          "state": {
            "_dom_classes": [],
            "_model_module": "@jupyter-widgets/controls",
            "_model_module_version": "1.5.0",
            "_model_name": "HTMLModel",
            "_view_count": null,
            "_view_module": "@jupyter-widgets/controls",
            "_view_module_version": "1.5.0",
            "_view_name": "HTMLView",
            "description": "",
            "description_tooltip": null,
            "layout": "IPY_MODEL_98cd1cc672da458699ce5e273d550524",
            "placeholder": "​",
            "style": "IPY_MODEL_6e94f5c5c7a24da8a2aee04cdc35aefe",
            "value": "Downloading (…)lve/main/config.json: 100%"
          }
        },
        "eb2b277825824c3a846376d830a2e1e1": {
          "model_module": "@jupyter-widgets/controls",
          "model_name": "FloatProgressModel",
          "model_module_version": "1.5.0",
          "state": {
            "_dom_classes": [],
            "_model_module": "@jupyter-widgets/controls",
            "_model_module_version": "1.5.0",
            "_model_name": "FloatProgressModel",
            "_view_count": null,
            "_view_module": "@jupyter-widgets/controls",
            "_view_module_version": "1.5.0",
            "_view_name": "ProgressView",
            "bar_style": "success",
            "description": "",
            "description_tooltip": null,
            "layout": "IPY_MODEL_854d406cdcc04d9bbb2593221e7d4cee",
            "max": 629,
            "min": 0,
            "orientation": "horizontal",
            "style": "IPY_MODEL_8604d4c42ce1492286f16c30a2251ad5",
            "value": 629
          }
        },
        "b3b0b82e2794438a8529b8db433a82c2": {
          "model_module": "@jupyter-widgets/controls",
          "model_name": "HTMLModel",
          "model_module_version": "1.5.0",
          "state": {
            "_dom_classes": [],
            "_model_module": "@jupyter-widgets/controls",
            "_model_module_version": "1.5.0",
            "_model_name": "HTMLModel",
            "_view_count": null,
            "_view_module": "@jupyter-widgets/controls",
            "_view_module_version": "1.5.0",
            "_view_name": "HTMLView",
            "description": "",
            "description_tooltip": null,
            "layout": "IPY_MODEL_56e84eb1a1e54ee9866ce367942f4ca0",
            "placeholder": "​",
            "style": "IPY_MODEL_c90606642c4b4653a8397216a99d631c",
            "value": " 629/629 [00:00&lt;00:00, 28.6kB/s]"
          }
        },
        "736bb23acc584b3c9edcd3440fc2aadf": {
          "model_module": "@jupyter-widgets/base",
          "model_name": "LayoutModel",
          "model_module_version": "1.2.0",
          "state": {
            "_model_module": "@jupyter-widgets/base",
            "_model_module_version": "1.2.0",
            "_model_name": "LayoutModel",
            "_view_count": null,
            "_view_module": "@jupyter-widgets/base",
            "_view_module_version": "1.2.0",
            "_view_name": "LayoutView",
            "align_content": null,
            "align_items": null,
            "align_self": null,
            "border": null,
            "bottom": null,
            "display": null,
            "flex": null,
            "flex_flow": null,
            "grid_area": null,
            "grid_auto_columns": null,
            "grid_auto_flow": null,
            "grid_auto_rows": null,
            "grid_column": null,
            "grid_gap": null,
            "grid_row": null,
            "grid_template_areas": null,
            "grid_template_columns": null,
            "grid_template_rows": null,
            "height": null,
            "justify_content": null,
            "justify_items": null,
            "left": null,
            "margin": null,
            "max_height": null,
            "max_width": null,
            "min_height": null,
            "min_width": null,
            "object_fit": null,
            "object_position": null,
            "order": null,
            "overflow": null,
            "overflow_x": null,
            "overflow_y": null,
            "padding": null,
            "right": null,
            "top": null,
            "visibility": null,
            "width": null
          }
        },
        "98cd1cc672da458699ce5e273d550524": {
          "model_module": "@jupyter-widgets/base",
          "model_name": "LayoutModel",
          "model_module_version": "1.2.0",
          "state": {
            "_model_module": "@jupyter-widgets/base",
            "_model_module_version": "1.2.0",
            "_model_name": "LayoutModel",
            "_view_count": null,
            "_view_module": "@jupyter-widgets/base",
            "_view_module_version": "1.2.0",
            "_view_name": "LayoutView",
            "align_content": null,
            "align_items": null,
            "align_self": null,
            "border": null,
            "bottom": null,
            "display": null,
            "flex": null,
            "flex_flow": null,
            "grid_area": null,
            "grid_auto_columns": null,
            "grid_auto_flow": null,
            "grid_auto_rows": null,
            "grid_column": null,
            "grid_gap": null,
            "grid_row": null,
            "grid_template_areas": null,
            "grid_template_columns": null,
            "grid_template_rows": null,
            "height": null,
            "justify_content": null,
            "justify_items": null,
            "left": null,
            "margin": null,
            "max_height": null,
            "max_width": null,
            "min_height": null,
            "min_width": null,
            "object_fit": null,
            "object_position": null,
            "order": null,
            "overflow": null,
            "overflow_x": null,
            "overflow_y": null,
            "padding": null,
            "right": null,
            "top": null,
            "visibility": null,
            "width": null
          }
        },
        "6e94f5c5c7a24da8a2aee04cdc35aefe": {
          "model_module": "@jupyter-widgets/controls",
          "model_name": "DescriptionStyleModel",
          "model_module_version": "1.5.0",
          "state": {
            "_model_module": "@jupyter-widgets/controls",
            "_model_module_version": "1.5.0",
            "_model_name": "DescriptionStyleModel",
            "_view_count": null,
            "_view_module": "@jupyter-widgets/base",
            "_view_module_version": "1.2.0",
            "_view_name": "StyleView",
            "description_width": ""
          }
        },
        "854d406cdcc04d9bbb2593221e7d4cee": {
          "model_module": "@jupyter-widgets/base",
          "model_name": "LayoutModel",
          "model_module_version": "1.2.0",
          "state": {
            "_model_module": "@jupyter-widgets/base",
            "_model_module_version": "1.2.0",
            "_model_name": "LayoutModel",
            "_view_count": null,
            "_view_module": "@jupyter-widgets/base",
            "_view_module_version": "1.2.0",
            "_view_name": "LayoutView",
            "align_content": null,
            "align_items": null,
            "align_self": null,
            "border": null,
            "bottom": null,
            "display": null,
            "flex": null,
            "flex_flow": null,
            "grid_area": null,
            "grid_auto_columns": null,
            "grid_auto_flow": null,
            "grid_auto_rows": null,
            "grid_column": null,
            "grid_gap": null,
            "grid_row": null,
            "grid_template_areas": null,
            "grid_template_columns": null,
            "grid_template_rows": null,
            "height": null,
            "justify_content": null,
            "justify_items": null,
            "left": null,
            "margin": null,
            "max_height": null,
            "max_width": null,
            "min_height": null,
            "min_width": null,
            "object_fit": null,
            "object_position": null,
            "order": null,
            "overflow": null,
            "overflow_x": null,
            "overflow_y": null,
            "padding": null,
            "right": null,
            "top": null,
            "visibility": null,
            "width": null
          }
        },
        "8604d4c42ce1492286f16c30a2251ad5": {
          "model_module": "@jupyter-widgets/controls",
          "model_name": "ProgressStyleModel",
          "model_module_version": "1.5.0",
          "state": {
            "_model_module": "@jupyter-widgets/controls",
            "_model_module_version": "1.5.0",
            "_model_name": "ProgressStyleModel",
            "_view_count": null,
            "_view_module": "@jupyter-widgets/base",
            "_view_module_version": "1.2.0",
            "_view_name": "StyleView",
            "bar_color": null,
            "description_width": ""
          }
        },
        "56e84eb1a1e54ee9866ce367942f4ca0": {
          "model_module": "@jupyter-widgets/base",
          "model_name": "LayoutModel",
          "model_module_version": "1.2.0",
          "state": {
            "_model_module": "@jupyter-widgets/base",
            "_model_module_version": "1.2.0",
            "_model_name": "LayoutModel",
            "_view_count": null,
            "_view_module": "@jupyter-widgets/base",
            "_view_module_version": "1.2.0",
            "_view_name": "LayoutView",
            "align_content": null,
            "align_items": null,
            "align_self": null,
            "border": null,
            "bottom": null,
            "display": null,
            "flex": null,
            "flex_flow": null,
            "grid_area": null,
            "grid_auto_columns": null,
            "grid_auto_flow": null,
            "grid_auto_rows": null,
            "grid_column": null,
            "grid_gap": null,
            "grid_row": null,
            "grid_template_areas": null,
            "grid_template_columns": null,
            "grid_template_rows": null,
            "height": null,
            "justify_content": null,
            "justify_items": null,
            "left": null,
            "margin": null,
            "max_height": null,
            "max_width": null,
            "min_height": null,
            "min_width": null,
            "object_fit": null,
            "object_position": null,
            "order": null,
            "overflow": null,
            "overflow_x": null,
            "overflow_y": null,
            "padding": null,
            "right": null,
            "top": null,
            "visibility": null,
            "width": null
          }
        },
        "c90606642c4b4653a8397216a99d631c": {
          "model_module": "@jupyter-widgets/controls",
          "model_name": "DescriptionStyleModel",
          "model_module_version": "1.5.0",
          "state": {
            "_model_module": "@jupyter-widgets/controls",
            "_model_module_version": "1.5.0",
            "_model_name": "DescriptionStyleModel",
            "_view_count": null,
            "_view_module": "@jupyter-widgets/base",
            "_view_module_version": "1.2.0",
            "_view_name": "StyleView",
            "description_width": ""
          }
        },
        "c88ec0628b0c45359f249af910a998d3": {
          "model_module": "@jupyter-widgets/controls",
          "model_name": "HBoxModel",
          "model_module_version": "1.5.0",
          "state": {
            "_dom_classes": [],
            "_model_module": "@jupyter-widgets/controls",
            "_model_module_version": "1.5.0",
            "_model_name": "HBoxModel",
            "_view_count": null,
            "_view_module": "@jupyter-widgets/controls",
            "_view_module_version": "1.5.0",
            "_view_name": "HBoxView",
            "box_style": "",
            "children": [
              "IPY_MODEL_617b1793278944409f6ff8ea9c592733",
              "IPY_MODEL_73adc4844d604c218dbaf61902545675",
              "IPY_MODEL_1c6e82d6bec64bdcbca0fdec4018a484"
            ],
            "layout": "IPY_MODEL_7bada918c3054ebe912cc2000b0d41f3"
          }
        },
        "617b1793278944409f6ff8ea9c592733": {
          "model_module": "@jupyter-widgets/controls",
          "model_name": "HTMLModel",
          "model_module_version": "1.5.0",
          "state": {
            "_dom_classes": [],
            "_model_module": "@jupyter-widgets/controls",
            "_model_module_version": "1.5.0",
            "_model_name": "HTMLModel",
            "_view_count": null,
            "_view_module": "@jupyter-widgets/controls",
            "_view_module_version": "1.5.0",
            "_view_name": "HTMLView",
            "description": "",
            "description_tooltip": null,
            "layout": "IPY_MODEL_8fc005ceed7c459eb483b649eee4acdd",
            "placeholder": "​",
            "style": "IPY_MODEL_ac3e37d2bf8a493b94491851997bc257",
            "value": "Downloading pytorch_model.bin: 100%"
          }
        },
        "73adc4844d604c218dbaf61902545675": {
          "model_module": "@jupyter-widgets/controls",
          "model_name": "FloatProgressModel",
          "model_module_version": "1.5.0",
          "state": {
            "_dom_classes": [],
            "_model_module": "@jupyter-widgets/controls",
            "_model_module_version": "1.5.0",
            "_model_name": "FloatProgressModel",
            "_view_count": null,
            "_view_module": "@jupyter-widgets/controls",
            "_view_module_version": "1.5.0",
            "_view_name": "ProgressView",
            "bar_style": "success",
            "description": "",
            "description_tooltip": null,
            "layout": "IPY_MODEL_f43804afe4ea481a925166d12b94eb17",
            "max": 267844284,
            "min": 0,
            "orientation": "horizontal",
            "style": "IPY_MODEL_9340f85097924161a3319750b47949ae",
            "value": 267844284
          }
        },
        "1c6e82d6bec64bdcbca0fdec4018a484": {
          "model_module": "@jupyter-widgets/controls",
          "model_name": "HTMLModel",
          "model_module_version": "1.5.0",
          "state": {
            "_dom_classes": [],
            "_model_module": "@jupyter-widgets/controls",
            "_model_module_version": "1.5.0",
            "_model_name": "HTMLModel",
            "_view_count": null,
            "_view_module": "@jupyter-widgets/controls",
            "_view_module_version": "1.5.0",
            "_view_name": "HTMLView",
            "description": "",
            "description_tooltip": null,
            "layout": "IPY_MODEL_1eb9f16db97c4228a9dc4148944b157d",
            "placeholder": "​",
            "style": "IPY_MODEL_437d07acd4564d77a3afc8591d6f9497",
            "value": " 268M/268M [00:01&lt;00:00, 185MB/s]"
          }
        },
        "7bada918c3054ebe912cc2000b0d41f3": {
          "model_module": "@jupyter-widgets/base",
          "model_name": "LayoutModel",
          "model_module_version": "1.2.0",
          "state": {
            "_model_module": "@jupyter-widgets/base",
            "_model_module_version": "1.2.0",
            "_model_name": "LayoutModel",
            "_view_count": null,
            "_view_module": "@jupyter-widgets/base",
            "_view_module_version": "1.2.0",
            "_view_name": "LayoutView",
            "align_content": null,
            "align_items": null,
            "align_self": null,
            "border": null,
            "bottom": null,
            "display": null,
            "flex": null,
            "flex_flow": null,
            "grid_area": null,
            "grid_auto_columns": null,
            "grid_auto_flow": null,
            "grid_auto_rows": null,
            "grid_column": null,
            "grid_gap": null,
            "grid_row": null,
            "grid_template_areas": null,
            "grid_template_columns": null,
            "grid_template_rows": null,
            "height": null,
            "justify_content": null,
            "justify_items": null,
            "left": null,
            "margin": null,
            "max_height": null,
            "max_width": null,
            "min_height": null,
            "min_width": null,
            "object_fit": null,
            "object_position": null,
            "order": null,
            "overflow": null,
            "overflow_x": null,
            "overflow_y": null,
            "padding": null,
            "right": null,
            "top": null,
            "visibility": null,
            "width": null
          }
        },
        "8fc005ceed7c459eb483b649eee4acdd": {
          "model_module": "@jupyter-widgets/base",
          "model_name": "LayoutModel",
          "model_module_version": "1.2.0",
          "state": {
            "_model_module": "@jupyter-widgets/base",
            "_model_module_version": "1.2.0",
            "_model_name": "LayoutModel",
            "_view_count": null,
            "_view_module": "@jupyter-widgets/base",
            "_view_module_version": "1.2.0",
            "_view_name": "LayoutView",
            "align_content": null,
            "align_items": null,
            "align_self": null,
            "border": null,
            "bottom": null,
            "display": null,
            "flex": null,
            "flex_flow": null,
            "grid_area": null,
            "grid_auto_columns": null,
            "grid_auto_flow": null,
            "grid_auto_rows": null,
            "grid_column": null,
            "grid_gap": null,
            "grid_row": null,
            "grid_template_areas": null,
            "grid_template_columns": null,
            "grid_template_rows": null,
            "height": null,
            "justify_content": null,
            "justify_items": null,
            "left": null,
            "margin": null,
            "max_height": null,
            "max_width": null,
            "min_height": null,
            "min_width": null,
            "object_fit": null,
            "object_position": null,
            "order": null,
            "overflow": null,
            "overflow_x": null,
            "overflow_y": null,
            "padding": null,
            "right": null,
            "top": null,
            "visibility": null,
            "width": null
          }
        },
        "ac3e37d2bf8a493b94491851997bc257": {
          "model_module": "@jupyter-widgets/controls",
          "model_name": "DescriptionStyleModel",
          "model_module_version": "1.5.0",
          "state": {
            "_model_module": "@jupyter-widgets/controls",
            "_model_module_version": "1.5.0",
            "_model_name": "DescriptionStyleModel",
            "_view_count": null,
            "_view_module": "@jupyter-widgets/base",
            "_view_module_version": "1.2.0",
            "_view_name": "StyleView",
            "description_width": ""
          }
        },
        "f43804afe4ea481a925166d12b94eb17": {
          "model_module": "@jupyter-widgets/base",
          "model_name": "LayoutModel",
          "model_module_version": "1.2.0",
          "state": {
            "_model_module": "@jupyter-widgets/base",
            "_model_module_version": "1.2.0",
            "_model_name": "LayoutModel",
            "_view_count": null,
            "_view_module": "@jupyter-widgets/base",
            "_view_module_version": "1.2.0",
            "_view_name": "LayoutView",
            "align_content": null,
            "align_items": null,
            "align_self": null,
            "border": null,
            "bottom": null,
            "display": null,
            "flex": null,
            "flex_flow": null,
            "grid_area": null,
            "grid_auto_columns": null,
            "grid_auto_flow": null,
            "grid_auto_rows": null,
            "grid_column": null,
            "grid_gap": null,
            "grid_row": null,
            "grid_template_areas": null,
            "grid_template_columns": null,
            "grid_template_rows": null,
            "height": null,
            "justify_content": null,
            "justify_items": null,
            "left": null,
            "margin": null,
            "max_height": null,
            "max_width": null,
            "min_height": null,
            "min_width": null,
            "object_fit": null,
            "object_position": null,
            "order": null,
            "overflow": null,
            "overflow_x": null,
            "overflow_y": null,
            "padding": null,
            "right": null,
            "top": null,
            "visibility": null,
            "width": null
          }
        },
        "9340f85097924161a3319750b47949ae": {
          "model_module": "@jupyter-widgets/controls",
          "model_name": "ProgressStyleModel",
          "model_module_version": "1.5.0",
          "state": {
            "_model_module": "@jupyter-widgets/controls",
            "_model_module_version": "1.5.0",
            "_model_name": "ProgressStyleModel",
            "_view_count": null,
            "_view_module": "@jupyter-widgets/base",
            "_view_module_version": "1.2.0",
            "_view_name": "StyleView",
            "bar_color": null,
            "description_width": ""
          }
        },
        "1eb9f16db97c4228a9dc4148944b157d": {
          "model_module": "@jupyter-widgets/base",
          "model_name": "LayoutModel",
          "model_module_version": "1.2.0",
          "state": {
            "_model_module": "@jupyter-widgets/base",
            "_model_module_version": "1.2.0",
            "_model_name": "LayoutModel",
            "_view_count": null,
            "_view_module": "@jupyter-widgets/base",
            "_view_module_version": "1.2.0",
            "_view_name": "LayoutView",
            "align_content": null,
            "align_items": null,
            "align_self": null,
            "border": null,
            "bottom": null,
            "display": null,
            "flex": null,
            "flex_flow": null,
            "grid_area": null,
            "grid_auto_columns": null,
            "grid_auto_flow": null,
            "grid_auto_rows": null,
            "grid_column": null,
            "grid_gap": null,
            "grid_row": null,
            "grid_template_areas": null,
            "grid_template_columns": null,
            "grid_template_rows": null,
            "height": null,
            "justify_content": null,
            "justify_items": null,
            "left": null,
            "margin": null,
            "max_height": null,
            "max_width": null,
            "min_height": null,
            "min_width": null,
            "object_fit": null,
            "object_position": null,
            "order": null,
            "overflow": null,
            "overflow_x": null,
            "overflow_y": null,
            "padding": null,
            "right": null,
            "top": null,
            "visibility": null,
            "width": null
          }
        },
        "437d07acd4564d77a3afc8591d6f9497": {
          "model_module": "@jupyter-widgets/controls",
          "model_name": "DescriptionStyleModel",
          "model_module_version": "1.5.0",
          "state": {
            "_model_module": "@jupyter-widgets/controls",
            "_model_module_version": "1.5.0",
            "_model_name": "DescriptionStyleModel",
            "_view_count": null,
            "_view_module": "@jupyter-widgets/base",
            "_view_module_version": "1.2.0",
            "_view_name": "StyleView",
            "description_width": ""
          }
        },
        "af2104dbf13149169012b0c4c934c875": {
          "model_module": "@jupyter-widgets/controls",
          "model_name": "HBoxModel",
          "model_module_version": "1.5.0",
          "state": {
            "_dom_classes": [],
            "_model_module": "@jupyter-widgets/controls",
            "_model_module_version": "1.5.0",
            "_model_name": "HBoxModel",
            "_view_count": null,
            "_view_module": "@jupyter-widgets/controls",
            "_view_module_version": "1.5.0",
            "_view_name": "HBoxView",
            "box_style": "",
            "children": [
              "IPY_MODEL_583bcd39211d4bbb8dca6f7be57638b3",
              "IPY_MODEL_38c27b56f19d4c1ca753bc8020eb4fd5",
              "IPY_MODEL_579e43a21f254c78b5fa01075d91e4e0"
            ],
            "layout": "IPY_MODEL_012f03282f9d402cbcf4a4046295a647"
          }
        },
        "583bcd39211d4bbb8dca6f7be57638b3": {
          "model_module": "@jupyter-widgets/controls",
          "model_name": "HTMLModel",
          "model_module_version": "1.5.0",
          "state": {
            "_dom_classes": [],
            "_model_module": "@jupyter-widgets/controls",
            "_model_module_version": "1.5.0",
            "_model_name": "HTMLModel",
            "_view_count": null,
            "_view_module": "@jupyter-widgets/controls",
            "_view_module_version": "1.5.0",
            "_view_name": "HTMLView",
            "description": "",
            "description_tooltip": null,
            "layout": "IPY_MODEL_a01b5424d8ee4180adba7ba54f0dc24b",
            "placeholder": "​",
            "style": "IPY_MODEL_3ce17d05b12c4a8ca9e2737264b9aeb2",
            "value": "Downloading (…)okenizer_config.json: 100%"
          }
        },
        "38c27b56f19d4c1ca753bc8020eb4fd5": {
          "model_module": "@jupyter-widgets/controls",
          "model_name": "FloatProgressModel",
          "model_module_version": "1.5.0",
          "state": {
            "_dom_classes": [],
            "_model_module": "@jupyter-widgets/controls",
            "_model_module_version": "1.5.0",
            "_model_name": "FloatProgressModel",
            "_view_count": null,
            "_view_module": "@jupyter-widgets/controls",
            "_view_module_version": "1.5.0",
            "_view_name": "ProgressView",
            "bar_style": "success",
            "description": "",
            "description_tooltip": null,
            "layout": "IPY_MODEL_9741a875d73b4076bc9d1c95a467be58",
            "max": 48,
            "min": 0,
            "orientation": "horizontal",
            "style": "IPY_MODEL_af138227a3d84fb0b4975c6b95478436",
            "value": 48
          }
        },
        "579e43a21f254c78b5fa01075d91e4e0": {
          "model_module": "@jupyter-widgets/controls",
          "model_name": "HTMLModel",
          "model_module_version": "1.5.0",
          "state": {
            "_dom_classes": [],
            "_model_module": "@jupyter-widgets/controls",
            "_model_module_version": "1.5.0",
            "_model_name": "HTMLModel",
            "_view_count": null,
            "_view_module": "@jupyter-widgets/controls",
            "_view_module_version": "1.5.0",
            "_view_name": "HTMLView",
            "description": "",
            "description_tooltip": null,
            "layout": "IPY_MODEL_e311819a678a4955a0f488cd496cf396",
            "placeholder": "​",
            "style": "IPY_MODEL_876e83954a98411892dff200a8fef53e",
            "value": " 48.0/48.0 [00:00&lt;00:00, 1.88kB/s]"
          }
        },
        "012f03282f9d402cbcf4a4046295a647": {
          "model_module": "@jupyter-widgets/base",
          "model_name": "LayoutModel",
          "model_module_version": "1.2.0",
          "state": {
            "_model_module": "@jupyter-widgets/base",
            "_model_module_version": "1.2.0",
            "_model_name": "LayoutModel",
            "_view_count": null,
            "_view_module": "@jupyter-widgets/base",
            "_view_module_version": "1.2.0",
            "_view_name": "LayoutView",
            "align_content": null,
            "align_items": null,
            "align_self": null,
            "border": null,
            "bottom": null,
            "display": null,
            "flex": null,
            "flex_flow": null,
            "grid_area": null,
            "grid_auto_columns": null,
            "grid_auto_flow": null,
            "grid_auto_rows": null,
            "grid_column": null,
            "grid_gap": null,
            "grid_row": null,
            "grid_template_areas": null,
            "grid_template_columns": null,
            "grid_template_rows": null,
            "height": null,
            "justify_content": null,
            "justify_items": null,
            "left": null,
            "margin": null,
            "max_height": null,
            "max_width": null,
            "min_height": null,
            "min_width": null,
            "object_fit": null,
            "object_position": null,
            "order": null,
            "overflow": null,
            "overflow_x": null,
            "overflow_y": null,
            "padding": null,
            "right": null,
            "top": null,
            "visibility": null,
            "width": null
          }
        },
        "a01b5424d8ee4180adba7ba54f0dc24b": {
          "model_module": "@jupyter-widgets/base",
          "model_name": "LayoutModel",
          "model_module_version": "1.2.0",
          "state": {
            "_model_module": "@jupyter-widgets/base",
            "_model_module_version": "1.2.0",
            "_model_name": "LayoutModel",
            "_view_count": null,
            "_view_module": "@jupyter-widgets/base",
            "_view_module_version": "1.2.0",
            "_view_name": "LayoutView",
            "align_content": null,
            "align_items": null,
            "align_self": null,
            "border": null,
            "bottom": null,
            "display": null,
            "flex": null,
            "flex_flow": null,
            "grid_area": null,
            "grid_auto_columns": null,
            "grid_auto_flow": null,
            "grid_auto_rows": null,
            "grid_column": null,
            "grid_gap": null,
            "grid_row": null,
            "grid_template_areas": null,
            "grid_template_columns": null,
            "grid_template_rows": null,
            "height": null,
            "justify_content": null,
            "justify_items": null,
            "left": null,
            "margin": null,
            "max_height": null,
            "max_width": null,
            "min_height": null,
            "min_width": null,
            "object_fit": null,
            "object_position": null,
            "order": null,
            "overflow": null,
            "overflow_x": null,
            "overflow_y": null,
            "padding": null,
            "right": null,
            "top": null,
            "visibility": null,
            "width": null
          }
        },
        "3ce17d05b12c4a8ca9e2737264b9aeb2": {
          "model_module": "@jupyter-widgets/controls",
          "model_name": "DescriptionStyleModel",
          "model_module_version": "1.5.0",
          "state": {
            "_model_module": "@jupyter-widgets/controls",
            "_model_module_version": "1.5.0",
            "_model_name": "DescriptionStyleModel",
            "_view_count": null,
            "_view_module": "@jupyter-widgets/base",
            "_view_module_version": "1.2.0",
            "_view_name": "StyleView",
            "description_width": ""
          }
        },
        "9741a875d73b4076bc9d1c95a467be58": {
          "model_module": "@jupyter-widgets/base",
          "model_name": "LayoutModel",
          "model_module_version": "1.2.0",
          "state": {
            "_model_module": "@jupyter-widgets/base",
            "_model_module_version": "1.2.0",
            "_model_name": "LayoutModel",
            "_view_count": null,
            "_view_module": "@jupyter-widgets/base",
            "_view_module_version": "1.2.0",
            "_view_name": "LayoutView",
            "align_content": null,
            "align_items": null,
            "align_self": null,
            "border": null,
            "bottom": null,
            "display": null,
            "flex": null,
            "flex_flow": null,
            "grid_area": null,
            "grid_auto_columns": null,
            "grid_auto_flow": null,
            "grid_auto_rows": null,
            "grid_column": null,
            "grid_gap": null,
            "grid_row": null,
            "grid_template_areas": null,
            "grid_template_columns": null,
            "grid_template_rows": null,
            "height": null,
            "justify_content": null,
            "justify_items": null,
            "left": null,
            "margin": null,
            "max_height": null,
            "max_width": null,
            "min_height": null,
            "min_width": null,
            "object_fit": null,
            "object_position": null,
            "order": null,
            "overflow": null,
            "overflow_x": null,
            "overflow_y": null,
            "padding": null,
            "right": null,
            "top": null,
            "visibility": null,
            "width": null
          }
        },
        "af138227a3d84fb0b4975c6b95478436": {
          "model_module": "@jupyter-widgets/controls",
          "model_name": "ProgressStyleModel",
          "model_module_version": "1.5.0",
          "state": {
            "_model_module": "@jupyter-widgets/controls",
            "_model_module_version": "1.5.0",
            "_model_name": "ProgressStyleModel",
            "_view_count": null,
            "_view_module": "@jupyter-widgets/base",
            "_view_module_version": "1.2.0",
            "_view_name": "StyleView",
            "bar_color": null,
            "description_width": ""
          }
        },
        "e311819a678a4955a0f488cd496cf396": {
          "model_module": "@jupyter-widgets/base",
          "model_name": "LayoutModel",
          "model_module_version": "1.2.0",
          "state": {
            "_model_module": "@jupyter-widgets/base",
            "_model_module_version": "1.2.0",
            "_model_name": "LayoutModel",
            "_view_count": null,
            "_view_module": "@jupyter-widgets/base",
            "_view_module_version": "1.2.0",
            "_view_name": "LayoutView",
            "align_content": null,
            "align_items": null,
            "align_self": null,
            "border": null,
            "bottom": null,
            "display": null,
            "flex": null,
            "flex_flow": null,
            "grid_area": null,
            "grid_auto_columns": null,
            "grid_auto_flow": null,
            "grid_auto_rows": null,
            "grid_column": null,
            "grid_gap": null,
            "grid_row": null,
            "grid_template_areas": null,
            "grid_template_columns": null,
            "grid_template_rows": null,
            "height": null,
            "justify_content": null,
            "justify_items": null,
            "left": null,
            "margin": null,
            "max_height": null,
            "max_width": null,
            "min_height": null,
            "min_width": null,
            "object_fit": null,
            "object_position": null,
            "order": null,
            "overflow": null,
            "overflow_x": null,
            "overflow_y": null,
            "padding": null,
            "right": null,
            "top": null,
            "visibility": null,
            "width": null
          }
        },
        "876e83954a98411892dff200a8fef53e": {
          "model_module": "@jupyter-widgets/controls",
          "model_name": "DescriptionStyleModel",
          "model_module_version": "1.5.0",
          "state": {
            "_model_module": "@jupyter-widgets/controls",
            "_model_module_version": "1.5.0",
            "_model_name": "DescriptionStyleModel",
            "_view_count": null,
            "_view_module": "@jupyter-widgets/base",
            "_view_module_version": "1.2.0",
            "_view_name": "StyleView",
            "description_width": ""
          }
        },
        "bf581749c7ef4842ae1f97e1a550db89": {
          "model_module": "@jupyter-widgets/controls",
          "model_name": "HBoxModel",
          "model_module_version": "1.5.0",
          "state": {
            "_dom_classes": [],
            "_model_module": "@jupyter-widgets/controls",
            "_model_module_version": "1.5.0",
            "_model_name": "HBoxModel",
            "_view_count": null,
            "_view_module": "@jupyter-widgets/controls",
            "_view_module_version": "1.5.0",
            "_view_name": "HBoxView",
            "box_style": "",
            "children": [
              "IPY_MODEL_e16ccf332c424a42833e5355a08f0251",
              "IPY_MODEL_d3b53836284943d7bad628e98a753746",
              "IPY_MODEL_7f62e2658e8447de834279f4cf42b477"
            ],
            "layout": "IPY_MODEL_732c74fe4ddd4b5a8e775d0521632a31"
          }
        },
        "e16ccf332c424a42833e5355a08f0251": {
          "model_module": "@jupyter-widgets/controls",
          "model_name": "HTMLModel",
          "model_module_version": "1.5.0",
          "state": {
            "_dom_classes": [],
            "_model_module": "@jupyter-widgets/controls",
            "_model_module_version": "1.5.0",
            "_model_name": "HTMLModel",
            "_view_count": null,
            "_view_module": "@jupyter-widgets/controls",
            "_view_module_version": "1.5.0",
            "_view_name": "HTMLView",
            "description": "",
            "description_tooltip": null,
            "layout": "IPY_MODEL_988cd50f7d114f5ca8a1cdbce599b0cf",
            "placeholder": "​",
            "style": "IPY_MODEL_471c0737f5584b26a6b5635485ff4d16",
            "value": "Downloading (…)solve/main/vocab.txt: 100%"
          }
        },
        "d3b53836284943d7bad628e98a753746": {
          "model_module": "@jupyter-widgets/controls",
          "model_name": "FloatProgressModel",
          "model_module_version": "1.5.0",
          "state": {
            "_dom_classes": [],
            "_model_module": "@jupyter-widgets/controls",
            "_model_module_version": "1.5.0",
            "_model_name": "FloatProgressModel",
            "_view_count": null,
            "_view_module": "@jupyter-widgets/controls",
            "_view_module_version": "1.5.0",
            "_view_name": "ProgressView",
            "bar_style": "success",
            "description": "",
            "description_tooltip": null,
            "layout": "IPY_MODEL_89f65fe28817419db915a5f4787d6183",
            "max": 231508,
            "min": 0,
            "orientation": "horizontal",
            "style": "IPY_MODEL_0c18d6c49f384c8da7b1b4e7b920fe8d",
            "value": 231508
          }
        },
        "7f62e2658e8447de834279f4cf42b477": {
          "model_module": "@jupyter-widgets/controls",
          "model_name": "HTMLModel",
          "model_module_version": "1.5.0",
          "state": {
            "_dom_classes": [],
            "_model_module": "@jupyter-widgets/controls",
            "_model_module_version": "1.5.0",
            "_model_name": "HTMLModel",
            "_view_count": null,
            "_view_module": "@jupyter-widgets/controls",
            "_view_module_version": "1.5.0",
            "_view_name": "HTMLView",
            "description": "",
            "description_tooltip": null,
            "layout": "IPY_MODEL_8f8fb864d8c64b5cac1389a65695726f",
            "placeholder": "​",
            "style": "IPY_MODEL_384ee5c752b045b3a420bd719f0e4815",
            "value": " 232k/232k [00:00&lt;00:00, 1.89MB/s]"
          }
        },
        "732c74fe4ddd4b5a8e775d0521632a31": {
          "model_module": "@jupyter-widgets/base",
          "model_name": "LayoutModel",
          "model_module_version": "1.2.0",
          "state": {
            "_model_module": "@jupyter-widgets/base",
            "_model_module_version": "1.2.0",
            "_model_name": "LayoutModel",
            "_view_count": null,
            "_view_module": "@jupyter-widgets/base",
            "_view_module_version": "1.2.0",
            "_view_name": "LayoutView",
            "align_content": null,
            "align_items": null,
            "align_self": null,
            "border": null,
            "bottom": null,
            "display": null,
            "flex": null,
            "flex_flow": null,
            "grid_area": null,
            "grid_auto_columns": null,
            "grid_auto_flow": null,
            "grid_auto_rows": null,
            "grid_column": null,
            "grid_gap": null,
            "grid_row": null,
            "grid_template_areas": null,
            "grid_template_columns": null,
            "grid_template_rows": null,
            "height": null,
            "justify_content": null,
            "justify_items": null,
            "left": null,
            "margin": null,
            "max_height": null,
            "max_width": null,
            "min_height": null,
            "min_width": null,
            "object_fit": null,
            "object_position": null,
            "order": null,
            "overflow": null,
            "overflow_x": null,
            "overflow_y": null,
            "padding": null,
            "right": null,
            "top": null,
            "visibility": null,
            "width": null
          }
        },
        "988cd50f7d114f5ca8a1cdbce599b0cf": {
          "model_module": "@jupyter-widgets/base",
          "model_name": "LayoutModel",
          "model_module_version": "1.2.0",
          "state": {
            "_model_module": "@jupyter-widgets/base",
            "_model_module_version": "1.2.0",
            "_model_name": "LayoutModel",
            "_view_count": null,
            "_view_module": "@jupyter-widgets/base",
            "_view_module_version": "1.2.0",
            "_view_name": "LayoutView",
            "align_content": null,
            "align_items": null,
            "align_self": null,
            "border": null,
            "bottom": null,
            "display": null,
            "flex": null,
            "flex_flow": null,
            "grid_area": null,
            "grid_auto_columns": null,
            "grid_auto_flow": null,
            "grid_auto_rows": null,
            "grid_column": null,
            "grid_gap": null,
            "grid_row": null,
            "grid_template_areas": null,
            "grid_template_columns": null,
            "grid_template_rows": null,
            "height": null,
            "justify_content": null,
            "justify_items": null,
            "left": null,
            "margin": null,
            "max_height": null,
            "max_width": null,
            "min_height": null,
            "min_width": null,
            "object_fit": null,
            "object_position": null,
            "order": null,
            "overflow": null,
            "overflow_x": null,
            "overflow_y": null,
            "padding": null,
            "right": null,
            "top": null,
            "visibility": null,
            "width": null
          }
        },
        "471c0737f5584b26a6b5635485ff4d16": {
          "model_module": "@jupyter-widgets/controls",
          "model_name": "DescriptionStyleModel",
          "model_module_version": "1.5.0",
          "state": {
            "_model_module": "@jupyter-widgets/controls",
            "_model_module_version": "1.5.0",
            "_model_name": "DescriptionStyleModel",
            "_view_count": null,
            "_view_module": "@jupyter-widgets/base",
            "_view_module_version": "1.2.0",
            "_view_name": "StyleView",
            "description_width": ""
          }
        },
        "89f65fe28817419db915a5f4787d6183": {
          "model_module": "@jupyter-widgets/base",
          "model_name": "LayoutModel",
          "model_module_version": "1.2.0",
          "state": {
            "_model_module": "@jupyter-widgets/base",
            "_model_module_version": "1.2.0",
            "_model_name": "LayoutModel",
            "_view_count": null,
            "_view_module": "@jupyter-widgets/base",
            "_view_module_version": "1.2.0",
            "_view_name": "LayoutView",
            "align_content": null,
            "align_items": null,
            "align_self": null,
            "border": null,
            "bottom": null,
            "display": null,
            "flex": null,
            "flex_flow": null,
            "grid_area": null,
            "grid_auto_columns": null,
            "grid_auto_flow": null,
            "grid_auto_rows": null,
            "grid_column": null,
            "grid_gap": null,
            "grid_row": null,
            "grid_template_areas": null,
            "grid_template_columns": null,
            "grid_template_rows": null,
            "height": null,
            "justify_content": null,
            "justify_items": null,
            "left": null,
            "margin": null,
            "max_height": null,
            "max_width": null,
            "min_height": null,
            "min_width": null,
            "object_fit": null,
            "object_position": null,
            "order": null,
            "overflow": null,
            "overflow_x": null,
            "overflow_y": null,
            "padding": null,
            "right": null,
            "top": null,
            "visibility": null,
            "width": null
          }
        },
        "0c18d6c49f384c8da7b1b4e7b920fe8d": {
          "model_module": "@jupyter-widgets/controls",
          "model_name": "ProgressStyleModel",
          "model_module_version": "1.5.0",
          "state": {
            "_model_module": "@jupyter-widgets/controls",
            "_model_module_version": "1.5.0",
            "_model_name": "ProgressStyleModel",
            "_view_count": null,
            "_view_module": "@jupyter-widgets/base",
            "_view_module_version": "1.2.0",
            "_view_name": "StyleView",
            "bar_color": null,
            "description_width": ""
          }
        },
        "8f8fb864d8c64b5cac1389a65695726f": {
          "model_module": "@jupyter-widgets/base",
          "model_name": "LayoutModel",
          "model_module_version": "1.2.0",
          "state": {
            "_model_module": "@jupyter-widgets/base",
            "_model_module_version": "1.2.0",
            "_model_name": "LayoutModel",
            "_view_count": null,
            "_view_module": "@jupyter-widgets/base",
            "_view_module_version": "1.2.0",
            "_view_name": "LayoutView",
            "align_content": null,
            "align_items": null,
            "align_self": null,
            "border": null,
            "bottom": null,
            "display": null,
            "flex": null,
            "flex_flow": null,
            "grid_area": null,
            "grid_auto_columns": null,
            "grid_auto_flow": null,
            "grid_auto_rows": null,
            "grid_column": null,
            "grid_gap": null,
            "grid_row": null,
            "grid_template_areas": null,
            "grid_template_columns": null,
            "grid_template_rows": null,
            "height": null,
            "justify_content": null,
            "justify_items": null,
            "left": null,
            "margin": null,
            "max_height": null,
            "max_width": null,
            "min_height": null,
            "min_width": null,
            "object_fit": null,
            "object_position": null,
            "order": null,
            "overflow": null,
            "overflow_x": null,
            "overflow_y": null,
            "padding": null,
            "right": null,
            "top": null,
            "visibility": null,
            "width": null
          }
        },
        "384ee5c752b045b3a420bd719f0e4815": {
          "model_module": "@jupyter-widgets/controls",
          "model_name": "DescriptionStyleModel",
          "model_module_version": "1.5.0",
          "state": {
            "_model_module": "@jupyter-widgets/controls",
            "_model_module_version": "1.5.0",
            "_model_name": "DescriptionStyleModel",
            "_view_count": null,
            "_view_module": "@jupyter-widgets/base",
            "_view_module_version": "1.2.0",
            "_view_name": "StyleView",
            "description_width": ""
          }
        }
      }
    }
  },
  "nbformat": 4,
  "nbformat_minor": 0
}